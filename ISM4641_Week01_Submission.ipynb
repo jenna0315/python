{
  "nbformat": 4,
  "nbformat_minor": 0,
  "metadata": {
    "colab": {
      "provenance": [],
      "collapsed_sections": [
        "bxhn9PtEt1Nw",
        "M20LCrddt1Bo",
        "eAe-SvXCt0xp",
        "BbWo4ug_2lS-",
        "74cZR9yL3Vqd"
      ],
      "authorship_tag": "ABX9TyMZx+4svpO6tL1IbKXlGItp",
      "include_colab_link": true
    },
    "kernelspec": {
      "name": "python3",
      "display_name": "Python 3"
    },
    "language_info": {
      "name": "python"
    }
  },
  "cells": [
    {
      "cell_type": "markdown",
      "metadata": {
        "id": "view-in-github",
        "colab_type": "text"
      },
      "source": [
        "<a href=\"https://colab.research.google.com/github/jenna0315/python/blob/main/ISM4641_Week01_Submission.ipynb\" target=\"_parent\"><img src=\"https://colab.research.google.com/assets/colab-badge.svg\" alt=\"Open In Colab\"/></a>"
      ]
    },
    {
      "cell_type": "markdown",
      "source": [
        "# 1. Variable Assignment and Data Types\n",
        "### Directions:\n",
        "* Create a variable named company and assign it the string value “Acme Corporation”.\n",
        "* Create a variable named founded_year and assign it the integer value 1945.\n",
        "* Create a variable named revenue and assign it the float value 35.6.\n",
        "* Create a variable names publicly_traded andassign it the boolean value True.\n",
        "* Print the value of each variable, followed by its data type."
      ],
      "metadata": {
        "id": "bxhn9PtEt1Nw"
      }
    },
    {
      "cell_type": "code",
      "source": [
        "company= \"Acme Corporation\"\n",
        "founded_year=1945\n",
        "revenue=35.6\n",
        "publicly_traded=True\n",
        "\n",
        "print(\"Company =\", \\\n",
        "    company, \\\n",
        "      \": Data Type =\", \\\n",
        "    type(company))\n",
        "print(\"Founded Year =\", \\\n",
        "      founded_year, \\\n",
        "      \": Data Type =\", \\\n",
        "    type(founded_year))\n",
        "print(\"Revenue =\", \\\n",
        "      revenue, \\\n",
        "      \": Data Type =\", \\\n",
        "    type(revenue))\n",
        "print(\"Publicly Traded is\", \\\n",
        "      publicly_traded, \\\n",
        "      \": Data Type =\", \\\n",
        "    type(publicly_traded))\n"
      ],
      "metadata": {
        "colab": {
          "base_uri": "https://localhost:8080/"
        },
        "id": "e5pIy05et1yq",
        "outputId": "5f20a210-e562-427d-e559-077394b5126f"
      },
      "execution_count": 1,
      "outputs": [
        {
          "output_type": "stream",
          "name": "stdout",
          "text": [
            "Company = Acme Corporation : Data Type = <class 'str'>\n",
            "Founded Year = 1945 : Data Type = <class 'int'>\n",
            "Revenue = 35.6 : Data Type = <class 'float'>\n",
            "Publicly Traded is True : Data Type = <class 'bool'>\n"
          ]
        }
      ]
    },
    {
      "cell_type": "markdown",
      "source": [
        "# 2. Data Type\n",
        "### Directions:\n",
        "* What is the data type of the variable price in the following code?\n",
        "\n",
        "```python\n",
        "print(product = \"Laptop\"\n",
        "price = 999.99)\n",
        "```\n",
        "* Write code to print the data type of price"
      ],
      "metadata": {
        "id": "M20LCrddt1Bo"
      }
    },
    {
      "cell_type": "code",
      "source": [
        "product=\"laptop\"\n",
        "price=999.99\n",
        "print(\"Price\", \\\n",
        "      price, \\\n",
        "      \": Data Type =\", \\\n",
        "    type(price))"
      ],
      "metadata": {
        "colab": {
          "base_uri": "https://localhost:8080/"
        },
        "id": "Mm4_akd8t2Rk",
        "outputId": "f20f5642-bbd2-451d-9f36-5eba6fdc2523"
      },
      "execution_count": null,
      "outputs": [
        {
          "output_type": "stream",
          "name": "stdout",
          "text": [
            "Price 999.99 : Data Type = <class 'float'>\n"
          ]
        }
      ]
    },
    {
      "cell_type": "markdown",
      "source": [
        "# 3. Integer Operations\n",
        "### Directions:\n",
        "You have a budget of 1000 and want to buy as many $45 monitors as you can.\n",
        "* Use integer division (//) to calculate how many monitors you can buy and print the result.\n",
        "* Then calculate how much change you will have left over, using the modulo (%) operator."
      ],
      "metadata": {
        "id": "eAe-SvXCt0xp"
      }
    },
    {
      "cell_type": "code",
      "source": [
        "budget=1000\n",
        "monitor_price=45\n",
        "\n",
        "print(\"I can purchase\", \\\n",
        "    (budget//monitor_price), \"monitors\")\n",
        "\n",
        "leftover_change=(budget%monitor_price)\n",
        "\n",
        "print(\"I will have $\", \\\n",
        "      leftover_change, \"remaining\")\n"
      ],
      "metadata": {
        "colab": {
          "base_uri": "https://localhost:8080/"
        },
        "id": "DjnKZ5q4t2jI",
        "outputId": "e9b55fd0-8454-466c-e5d7-9e5b24acc351"
      },
      "execution_count": null,
      "outputs": [
        {
          "output_type": "stream",
          "name": "stdout",
          "text": [
            "I can purchase 22 monitors\n",
            "I will have $ 10 remaining\n"
          ]
        }
      ]
    },
    {
      "cell_type": "code",
      "execution_count": null,
      "metadata": {
        "id": "Ljyf6Cq1tMKB"
      },
      "outputs": [],
      "source": []
    },
    {
      "cell_type": "markdown",
      "source": [
        "# 4. Float Operations\n",
        "### Directions:\n",
        "* Calculate the total revenue from selling 150 units of a product priced at $49.99 per unit.\n",
        "* Print the result"
      ],
      "metadata": {
        "id": "BbWo4ug_2lS-"
      }
    },
    {
      "cell_type": "code",
      "source": [
        "number_of_units=150\n",
        "unit_price=49.99\n",
        "total_revenue=(number_of_units*unit_price)\n",
        "print(\"Total Revenue $\", \\\n",
        "      total_revenue)"
      ],
      "metadata": {
        "colab": {
          "base_uri": "https://localhost:8080/"
        },
        "id": "VoJuWZ_l20J8",
        "outputId": "d8b9642d-2c55-44a1-a6c7-ca1ad8226a46"
      },
      "execution_count": null,
      "outputs": [
        {
          "output_type": "stream",
          "name": "stdout",
          "text": [
            "Total Revenue $ 7498.5\n"
          ]
        }
      ]
    },
    {
      "cell_type": "markdown",
      "source": [
        "# 5. String Concatenation\n",
        "### Directions:\n",
        "1. Create three string variables:\n",
        "* product with the value “Smartphone”\n",
        "* model with the value “X”\n",
        "* year with the value “2023”\n",
        "\n",
        "2. Concatenate them to create a new variable product_info that contains the string “Smart-Phone Model X (2023)”.\n",
        "\n",
        "3. Print product_info."
      ],
      "metadata": {
        "id": "74cZR9yL3Vqd"
      }
    },
    {
      "cell_type": "code",
      "source": [
        "product=\"Smart-Phone\"\n",
        "model=\"X\"\n",
        "year=\"2023\"\n",
        "\n",
        "product_info= product + \" Model \" + model + \" (\" + year +\")\"\n",
        "print(product_info)"
      ],
      "metadata": {
        "colab": {
          "base_uri": "https://localhost:8080/"
        },
        "id": "JcQ0qN0m3kLD",
        "outputId": "80f5e10c-16b0-439d-9f88-fc67017c695a"
      },
      "execution_count": null,
      "outputs": [
        {
          "output_type": "stream",
          "name": "stdout",
          "text": [
            "Smart-Phone Model X (2023)\n"
          ]
        }
      ]
    },
    {
      "cell_type": "markdown",
      "source": [
        "# 6. Comparison Operators\n",
        "### Directions\n",
        "A customer is eligible for free shipping if their order total is greater than or equal to $50.\n",
        "* Create two variables: order_total (assign a value of your choice) and free_shipping_threshold (50).\n",
        "* Use a comparison operator to check if the customer is eligible for free shipping and store the result (True or False) in a variable called is_eligible. Print is_eligible."
      ],
      "metadata": {
        "id": "VNwDR7kE5Upk"
      }
    },
    {
      "cell_type": "code",
      "source": [
        "order_total=200\n",
        "free_shipping_threshold=50\n",
        "\n",
        "is_eligible=(order_total>=free_shipping_threshold)\n",
        "print(\"Eligible for free shipping?\",is_eligible)"
      ],
      "metadata": {
        "id": "4PqppnrG5agR",
        "colab": {
          "base_uri": "https://localhost:8080/"
        },
        "outputId": "bdc23d0f-c7bb-4c20-fce9-8f7309ab065e"
      },
      "execution_count": null,
      "outputs": [
        {
          "output_type": "stream",
          "name": "stdout",
          "text": [
            "Eligible for free shipping? True\n"
          ]
        }
      ]
    },
    {
      "cell_type": "code",
      "source": [],
      "metadata": {
        "id": "sm7ZJimpvWe-"
      },
      "execution_count": null,
      "outputs": []
    },
    {
      "cell_type": "markdown",
      "source": [
        "# 7. Logical AND Operator\n",
        "* A company is offering a special discount to customers who are both loyalty members and have made a purchase in the last 7 days.\n",
        "* Create three variables:\n",
        "1. is_member (True or False)\n",
        "2. days_since_purchase (an integer)\n",
        "3. discount_threshold (7).\n",
        "* Use logical operators to determine if a customer qualifies for the discount.\n",
        "* Store the result in a variable called qualifies_for_discount.\n",
        "* Print qualifies_for_discount"
      ],
      "metadata": {
        "id": "0wJvKKsbv2Ax"
      }
    },
    {
      "cell_type": "code",
      "source": [
        "is_member=True\n",
        "days_since_purchase=6\n",
        "discount_threshold=7\n",
        "\n",
        "qualifies_for_discount=(is_member and (days_since_purchase<=discount_threshold))\n",
        "print(\"Qualifies for discount?\",qualifies_for_discount)"
      ],
      "metadata": {
        "colab": {
          "base_uri": "https://localhost:8080/"
        },
        "id": "bAcQrIeKwKsM",
        "outputId": "b44fdda5-7f31-404a-df55-37863994c02a"
      },
      "execution_count": null,
      "outputs": [
        {
          "output_type": "stream",
          "name": "stdout",
          "text": [
            "Qualifies for discount? True\n"
          ]
        }
      ]
    },
    {
      "cell_type": "markdown",
      "source": [
        "# 8. Logical OR Operator\n",
        "You are developing a feature for a website that allows users to sign in with either their email address or their phone number.\n",
        "* Create three variables:\n",
        "1. email (a string, can be empty or contain\n",
        "an email)\n",
        "2. phone (a string, can be empty or contain a phone number)\n",
        "3. sign_in_allowed(Boolean).\n",
        "* Use the logical or operator to set sign_in_allowed to True if either email or phone is not empty, and False otherwise.\n",
        "* Print sign_in_allowed.\n",
        "\n"
      ],
      "metadata": {
        "id": "R1M-gUigweEp"
      }
    },
    {
      "cell_type": "code",
      "source": [
        "email=\"\"\n",
        "phone=\"\"\n",
        "sign_in_allowed=bool(email or phone)\n",
        "print(\"Sign in allowed?\",sign_in_allowed)\n"
      ],
      "metadata": {
        "colab": {
          "base_uri": "https://localhost:8080/"
        },
        "id": "oV_koWa9wcqN",
        "outputId": "461bebd2-4c5c-40dd-9e3c-f590a4f5d4ee"
      },
      "execution_count": null,
      "outputs": [
        {
          "output_type": "stream",
          "name": "stdout",
          "text": [
            "Sign in allowed? False\n"
          ]
        }
      ]
    },
    {
      "cell_type": "markdown",
      "source": [
        "9. Logical NOT Operator\n",
        "A store is closed on Sundays.\n",
        "* Create a variable day and assign it the string “Sunday”.\n",
        "* Use the logical not operator to determine if the store is open today.\n",
        "* Store the result in a variable called is_open.\n",
        "* Print is_open"
      ],
      "metadata": {
        "id": "KLuW63nWyB46"
      }
    },
    {
      "cell_type": "code",
      "source": [
        "day=\"Sunday\"\n",
        "is_open=not(day==\"Sunday\")\n",
        "print(\"Is the store open today?\",is_open)"
      ],
      "metadata": {
        "colab": {
          "base_uri": "https://localhost:8080/"
        },
        "id": "xsMU-mouw6Lu",
        "outputId": "078dc2db-d26b-45dd-d5de-f7ebed117155"
      },
      "execution_count": null,
      "outputs": [
        {
          "output_type": "stream",
          "name": "stdout",
          "text": [
            "Is the store open today? False\n"
          ]
        }
      ]
    },
    {
      "cell_type": "markdown",
      "source": [
        "# 10. Exponentiation\n",
        "A company’s revenue has been growing at a rate of approximately 10% per year. If the initial revenue in year 1 is $1 million\n",
        "* calculate the projected revenue after 5 years using\n",
        "exponentiation.\n",
        "* Print the projected revenue."
      ],
      "metadata": {
        "id": "dMV361Jr02u3"
      }
    },
    {
      "cell_type": "code",
      "source": [
        "intial_revenue=1000000\n",
        "growth_rate=0.1\n",
        "years=5\n",
        "projected_revenue=intial_revenue*(1.0+growth_rate)**years\n",
        "print(\"Projected Revenue $\",projected_revenue)\n",
        "print(\"Rounded Projected Revenue $\",int(projected_revenue))"
      ],
      "metadata": {
        "colab": {
          "base_uri": "https://localhost:8080/"
        },
        "id": "atdEJsG41f8O",
        "outputId": "48700d0b-1e15-4237-9684-302a7a0ad34a"
      },
      "execution_count": null,
      "outputs": [
        {
          "output_type": "stream",
          "name": "stdout",
          "text": [
            "Projected Revenue $ 1610510.0000000005\n",
            "Rounded Projected Revenue $ 1610510\n"
          ]
        }
      ]
    },
    {
      "cell_type": "markdown",
      "source": [
        "# 11. Modulo Operator for Even/Odd\n",
        "Use the modulo operator to determine if a given number is even or odd.\n",
        "* Create a variable number (assign an integer value), and then use an if statement along with the modulo operator to print “Even” if the number is even and “Odd” if its odd"
      ],
      "metadata": {
        "id": "-F0J_KnJ3Cp5"
      }
    },
    {
      "cell_type": "code",
      "source": [
        "variable_number=101\n",
        "if variable_number%2==0:\n",
        "    print(\"Even\")\n",
        "else:\n",
        "    print(\"Odd\")\n"
      ],
      "metadata": {
        "colab": {
          "base_uri": "https://localhost:8080/"
        },
        "id": "MnCJDD5tCqc9",
        "outputId": "83a8a38d-3251-4918-974a-00acaf850758"
      },
      "execution_count": null,
      "outputs": [
        {
          "output_type": "stream",
          "name": "stdout",
          "text": [
            "Odd\n"
          ]
        }
      ]
    },
    {
      "cell_type": "markdown",
      "source": [
        "# 12. Type Conversion (String to Integer)\n",
        "* You have a string variable quantity_str = \"12\", representing the quantity of an item ordered.\n",
        "* Convert this string to an integer and store it in a variable called quantity_int.\n",
        "* Calculate the total cost if the price per item is $25 and print the result."
      ],
      "metadata": {
        "id": "gIGze5ByEQsh"
      }
    },
    {
      "cell_type": "code",
      "source": [
        "quantity_str=\"12\"\n",
        "quantity_int=int(quantity_str)\n",
        "price_per_item=25\n",
        "total_cost=quantity_int*price_per_item\n",
        "print(\"Total Cost $\",total_cost)"
      ],
      "metadata": {
        "colab": {
          "base_uri": "https://localhost:8080/"
        },
        "id": "g1jnaKsNEYVh",
        "outputId": "eaa35329-d05b-4e41-843c-4facf629b8c6"
      },
      "execution_count": null,
      "outputs": [
        {
          "output_type": "stream",
          "name": "stdout",
          "text": [
            "Total Cost $ 300\n"
          ]
        }
      ]
    },
    {
      "cell_type": "code",
      "source": [],
      "metadata": {
        "id": "gK7yjGh6DwZP"
      },
      "execution_count": null,
      "outputs": []
    },
    {
      "cell_type": "markdown",
      "source": [
        "# 13. Type Conversion (Integer to String)\n",
        "You need to generate a report that includes a product ID and the year it was launched. You have the product ID as an integer product_id = 456 and the year as an integer launch_year = 2022.\n",
        "* Convert both integers to strings and concatenate them to create a single string like this: “ProductID-LaunchYear” (e.g., “456-2022”).\n",
        "* Store the result in a variable called report_string and print it"
      ],
      "metadata": {
        "id": "87ZehTcUEy_9"
      }
    },
    {
      "cell_type": "code",
      "source": [
        "product_id=456\n",
        "launch_year=2022\n",
        "report_string=(str(product_id))+(\"-\")+(str(launch_year))\n",
        "print(\"Report:\",report_string)"
      ],
      "metadata": {
        "colab": {
          "base_uri": "https://localhost:8080/"
        },
        "id": "NwMfWWTZFABJ",
        "outputId": "928c50d1-afbf-4b06-949a-3f19557c9190"
      },
      "execution_count": null,
      "outputs": [
        {
          "output_type": "stream",
          "name": "stdout",
          "text": [
            "Report: 456-2022\n"
          ]
        }
      ]
    },
    {
      "cell_type": "markdown",
      "source": [
        "# 14. Type Conversion (Float to Integer)\n",
        "A customers shopping cart total is stored as a float: cart_total = 157.85. For a special promotion, you need to round down this total to the nearest whole number to determine a discount amount.\n",
        "* Convert cart_total to an integer using int() and store it in a new variable\n",
        "discount_amount.\n",
        "* Print the value of discount_amount"
      ],
      "metadata": {
        "id": "VnrqcjpPFqis"
      }
    },
    {
      "cell_type": "code",
      "source": [
        "cart_total=157.85\n",
        "discount_amount=int(cart_total)\n",
        "print(\"Discount Amount\",discount_amount)"
      ],
      "metadata": {
        "colab": {
          "base_uri": "https://localhost:8080/"
        },
        "id": "rZgXNmSkFGVg",
        "outputId": "50498010-88f6-40a6-8d46-8f421333bd72"
      },
      "execution_count": null,
      "outputs": [
        {
          "output_type": "stream",
          "name": "stdout",
          "text": [
            "Discount Amount 157\n"
          ]
        }
      ]
    },
    {
      "cell_type": "markdown",
      "source": [
        "# 15. Valid Variable Names\n",
        "* Explain why the following variable names are invalid in Python:\n",
        "1. total%\n",
        "2. sales-2023\n",
        "3. 2ndOrder\n",
        "\n",
        "* Suggest valid alternatives for each invalid name and explain why your alternatives are valid\n",
        "\n",
        "\n",
        "1. total% is an invalid variable name because it uses a python key word/ symbol %\n",
        " * Alternative: total_percentage\n",
        " * total_percentage is valid because it is all lowercase, begins with a letter, is separated by an underscore and avoids python key words and symbols.\n",
        "\n",
        "2. sales-2023 is an invalid vaiable name because it uses a dash instead of an understore to separate values\n",
        " * Alternative: sales_2023\n",
        " * sales_2023 is valid because it is all lowercase, begins with a letter, and is separated by an underscore without using invalid characters such as \"-\"\n",
        "\n",
        "3. 2ndOrder is an invalid variable name because it does not start with a letter or underscore and is not in snake case.\n",
        " * Alternative: second_order\n",
        " * second_order is valid because it is all lowercase, begins with a letter and is separated by an underscore."
      ],
      "metadata": {
        "id": "mDncjc0wGZ-i"
      }
    }
  ]
}